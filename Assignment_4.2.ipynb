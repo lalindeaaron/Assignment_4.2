{
 "cells": [
  {
   "cell_type": "markdown",
   "metadata": {},
   "source": [
    "1.Write a python program using function concept that maps list of words into a list of integers representing the lengths of the corresponding words.\n",
    "\n",
    "hint: if a list [ab,cde,erty] is passed on to the python function output should come as [2,3,4] \n",
    "here 2,3,4 are the lengths of the words in the list.\n"
   ]
  },
  {
   "cell_type": "code",
   "execution_count": 2,
   "metadata": {},
   "outputs": [],
   "source": [
    "def map_length_word(words):\n",
    "    return list(map(len, words))"
   ]
  },
  {
   "cell_type": "markdown",
   "metadata": {},
   "source": [
    "In the above function the purpose is to to create a list of integers representing the length. This is done by taking each element of the list provided (using the map function) and finding the length of each word. This creates the integer that is then added to the list."
   ]
  },
  {
   "cell_type": "code",
   "execution_count": 4,
   "metadata": {},
   "outputs": [
    {
     "name": "stdout",
     "output_type": "stream",
     "text": [
      "[4, 5, 3, 6, 2, 2]\n"
     ]
    }
   ],
   "source": [
    "words = ['lion','bears','and','tigers','oh','my']\n",
    "print (map_length_word(words))"
   ]
  },
  {
   "cell_type": "markdown",
   "metadata": {},
   "source": [
    "The above code provides the list and will print the output of the map_length_word function from it."
   ]
  },
  {
   "cell_type": "markdown",
   "metadata": {},
   "source": [
    "2.Write a python function which takes a character (i.e. a string of length 1) and returns True if it is a vowel, False otherwise."
   ]
  },
  {
   "cell_type": "code",
   "execution_count": 5,
   "metadata": {},
   "outputs": [],
   "source": [
    "def finding_vowels(char):\n",
    "    vowels = ('a','e','i','o','u')\n",
    "    if char not in vowels:\n",
    "        return False\n",
    "    return True"
   ]
  },
  {
   "cell_type": "markdown",
   "metadata": {},
   "source": [
    "This function above takes the input character and check it with the list of vowels. If it it does not match with any of the characters in the list it returns False, else it returns True."
   ]
  },
  {
   "cell_type": "code",
   "execution_count": 8,
   "metadata": {},
   "outputs": [
    {
     "name": "stdout",
     "output_type": "stream",
     "text": [
      "input a letter: \n",
      "a\n",
      "True\n"
     ]
    }
   ],
   "source": [
    "char = input('input a letter: \\n')\n",
    "print(finding_vowels(char))"
   ]
  },
  {
   "cell_type": "markdown",
   "metadata": {},
   "source": [
    "this allows the user to input a letter to check if its a vowel and will print a True or False answer."
   ]
  }
 ],
 "metadata": {
  "kernelspec": {
   "display_name": "Python 3",
   "language": "python",
   "name": "python3"
  },
  "language_info": {
   "codemirror_mode": {
    "name": "ipython",
    "version": 3
   },
   "file_extension": ".py",
   "mimetype": "text/x-python",
   "name": "python",
   "nbconvert_exporter": "python",
   "pygments_lexer": "ipython3",
   "version": "3.6.4"
  }
 },
 "nbformat": 4,
 "nbformat_minor": 2
}
